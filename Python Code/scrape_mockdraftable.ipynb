{
 "cells": [
  {
   "cell_type": "raw",
   "metadata": {},
   "source": [
    "The goal of this notebook will be to scrape the combine data contained on (MockDraftable)[https://www.mockdraftable.com].\n",
    "\n",
    "Our first attempt at scraping the data will be to iterate through all position groups, grabbing player information as we go.  The way positions are stored on the site are very interesting.  They basic format is listed below:\n",
    "\n",
    "ATH (Athlete)\n",
    " |\n",
    " |__ SKILL (Skill Position Player)\n",
    " |     |\n",
    " |     |__ QB (Quarterback)\n",
    " |     |\n",
    " |     |__ BALL (Ball Carrier)\n",
    " |           |\n",
    " |           |__ RB (Running Back)\n",
    " |           |    |\n",
    " |           |    |__ FB (Fullback)\n",
    " |           |    |\n",
    " |           |    |__ HB (Halfback)\n",
    " |           |\n",
    " |           |__ WR (Wide Receiver)\n",
    " |           |\n",
    " |           |__ TE (Tight End)\n",
    " |           \n",
    " |__ OL (Offensive Line)\n",
    " |   |\n",
    " |   |__ OT (Offensive Tackle)\n",
    " |   | \n",
    " |   |__ IOL (Interior Offensive Line)\n",
    " |        |\n",
    " |        |__ OG (Offensive Guard)\n",
    " |        |\n",
    " |        |__ OC (Offensive Center)\n",
    " |\n",
    " |__ ST (Special Teams)\n",
    " |\n",
    " |__ DL (Defensive Line)\n",
    " |   |\n",
    " |   |__ IDL (Interior Defensive Line)\n",
    " |   |    |\n",
    " |   |    |__ DT (Defensive Tackle)\n",
    " |   |\n",
    " |   |__ DE (One-Gap Defensive End)\n",
    " |\n",
    " |__ EDGE (Edge Defender)\n",
    " |\n",
    " |__ LB (Linebacker)\n",
    " |   |\n",
    " |   |__ OBLB (Off-Ball Linebacker)\n",
    " |         |\n",
    " |         |__ ILB (Inside Linebacker)\n",
    " |         |\n",
    " |         |__ OLB (Outside Linebacker)\n",
    " |\n",
    " |__ DB (Defensive Back)\n",
    "     |\n",
    "     |__ S (Safety)\n",
    "     |   |\n",
    "     |   |__ SS (Box/Strong Safety)\n",
    "     |   |\n",
    "     |   |__ FS (Deep/Free Safety)\n",
    "     |\n",
    "     |__ CB (Cornerback)"
   ]
  },
  {
   "cell_type": "code",
   "execution_count": 26,
   "metadata": {},
   "outputs": [],
   "source": [
    "# Import necessary packages\n",
    "import json\n",
    "import pandas as pd\n",
    "import os\n",
    "from selenium import webdriver\n",
    "from selenium.webdriver.common.keys import Keys\n",
    "from selenium.webdriver.firefox.firefox_binary import FirefoxBinary\n",
    "from bs4 import BeautifulSoup\n",
    "import requests\n",
    "import time"
   ]
  },
  {
   "cell_type": "code",
   "execution_count": 6,
   "metadata": {},
   "outputs": [],
   "source": [
    "def advancePage(browser):\n",
    "    # Extract the navigation bar at the bottom of the page for navigation\n",
    "    navBar = browser.find_elements_by_class_name('btn-group')\n",
    "    \n",
    "    # Advance to the next page by hitting the next button\n",
    "    navBar[len(navBar)-1].click()    "
   ]
  },
  {
   "cell_type": "code",
   "execution_count": 7,
   "metadata": {},
   "outputs": [],
   "source": [
    "def cleanUpData(player):\n",
    "    for data in player:\n",
    "        if player[data] == None:\n",
    "            pass\n",
    "        elif data in ['weight','combineBench']:\n",
    "            player[data] = player[data].split(' ')[0]\n",
    "        elif data in ['wingspan','lengthArm','lengthHand','combineBroad','combineVert']:\n",
    "            player[data] = player[data].split('\"')[0]\n",
    "        elif data in ['combineCone','combine10split','combine20split','combine40dash','combine20shuttle','combine60shuttle']:\n",
    "            player[data] = player[data].split('s')[0]\n",
    "    return player"
   ]
  },
  {
   "cell_type": "code",
   "execution_count": 8,
   "metadata": {},
   "outputs": [],
   "source": [
    "def createPlayerDict():\n",
    "    varNames = ['nameFirst', 'nameLast', 'draftYear', 'college', 'heightFeet', 'heightInches','weight', 'wingspan', \n",
    "                'lengthArm', 'lengthHand', 'combine10split', 'combine20split', 'combine40dash', 'combineBench', \n",
    "                'combineVert', 'combineBroad', 'combineCone', 'combine20shuttle', 'combine60shuttle']\n",
    "    playerDict = {}\n",
    "    for var in varNames:\n",
    "        playerDict[var] = None\n",
    "    return playerDict"
   ]
  },
  {
   "cell_type": "code",
   "execution_count": 9,
   "metadata": {},
   "outputs": [],
   "source": [
    "def fractionCheck(text):\n",
    "    # For reference: https://www.compart.com/en/unicode/decomposition/%3Cfraction%3E\n",
    "    fractions = [u\"⅒\",u\"⅑\",u\"⅛\",u\"⅐\",u\"⅙\",u\"⅕\",u\"¼\",u\"⅓\",u\"⅜\",u\"⅖\",u\"½\",u\"⅗\",u\"⅝\",u\"⅔\",u\"¾\",u\"⅘\",u\"⅚\",u\"⅞\"]\n",
    "    fraction_values = [u\".1\",u\".111\",u\".125\",u\".143\",u\".167\",u\".2\",u\".25\",u\".333\",u\".375\",u\".4\",u\".5\",u\".6\",u\".625\",\n",
    "                       u\".666\",u\".75\",u\".8\",u\".833\",u\".875\"]\n",
    "    #for fraction in fractions:\n",
    "    for a, b in zip(fractions, fraction_values):\n",
    "        if a in text:\n",
    "            return text.replace(a, b).encode('ascii','ignore').strip()      \n",
    "    return text.encode('ascii','ignore').strip()"
   ]
  },
  {
   "cell_type": "code",
   "execution_count": 10,
   "metadata": {},
   "outputs": [],
   "source": [
    "def getVariableName(name):\n",
    "    variableDict = {'Height':'height', 'Weight':'weight', 'Wingspan':'wingspan', 'Arm Length':'lengthArm',\n",
    "                    'Hand Size':'lengthHand', '10 Yard Split':'combine10split', '20 Yard Split':'combine20split',\n",
    "                    '40 Yard Dash':'combine40dash', 'Bench Press':'combineBench', 'Vertical Jump':'combineVert',\n",
    "                    'Broad Jump':'combineBroad', '3-Cone Drill':'combineCone', '20 Yard Shuttle':'combine20shuttle',\n",
    "                    '60 Yard Shuttle':'combine60shuttle'}\n",
    "    return(variableDict[name])"
   ]
  },
  {
   "cell_type": "code",
   "execution_count": 11,
   "metadata": {},
   "outputs": [],
   "source": [
    "def makeURL(position):\n",
    "    #baseURL = 'https://www.mockdraftable.com/search?position=QB&beginYear=1999&endYear=2018&sort=DESC&page='\n",
    "    URL = 'https://www.mockdraftable.com/search?position=' + position + '&beginYear=1999&endYear=2018&sort=DESC&page=1'\n",
    "    return URL"
   ]
  },
  {
   "cell_type": "code",
   "execution_count": 12,
   "metadata": {},
   "outputs": [],
   "source": [
    "def pageNumberStatus(soup):\n",
    "    selectedButton = soup.find_all('button',{'class':'btn btn-secondary active'})[-1]\n",
    "    lastButton = soup.find_all('button',{'class':'btn btn-secondary'})[-2]\n",
    "    return [int(selectedButton.text), int(lastButton.text)]"
   ]
  },
  {
   "cell_type": "code",
   "execution_count": 13,
   "metadata": {},
   "outputs": [],
   "source": [
    "def retrievePlayerInfo(soup):\n",
    "    # Initialize a player dictionary\n",
    "    playerDict = createPlayerDict()\n",
    "\n",
    "    # Retrieve basic player information\n",
    "    playerName = soup.find('div',{'class':'mb-0 mt-1 h3 align-bottom playerbar-name'}).text.encode('ascii','ignore').strip()\n",
    "    playerDict['nameFirst'] = playerName.split(' ')[0]\n",
    "    playerDict['nameLast'] = playerName.split(' ')[1]\n",
    "    for dd in soup.find_all('dd'):\n",
    "        playerDict['draftYear'] = soup.find('a',{'data-reactid':'162'}).text.encode('ascii','ignore').strip()\n",
    "        playerDict['college'] = soup.find('dd',{'data-reactid':'170'}).text.encode('ascii','ignore').strip()\n",
    "\n",
    "    # Retrieve player measurables\n",
    "    playerInfo = {}\n",
    "    measureablesTable = soup.find('tbody')\n",
    "    rows = measureablesTable.find_all('tr')\n",
    "    for row in rows:\n",
    "        columns = row.find_all('td')\n",
    "        keyName = getVariableName(str(columns[0].text))\n",
    "        if keyName == 'height':\n",
    "            playerDict['heightFeet'] = columns[1].text.encode('ascii', 'ignore').replace(\"\\'\",\"\").split(' ')[0]\n",
    "            playerDict['heightInches'] = columns[1].text.encode('ascii', 'ignore').replace(\"\\'\",\"\").split(' ')[1].replace('\"','')\n",
    "        else:\n",
    "            value = fractionCheck(columns[1].text)\n",
    "            playerDict[keyName] = value\n",
    "\n",
    "    # remove unnecessary formatting from measurable values\n",
    "    playerDict = cleanUpData(playerDict)"
   ]
  },
  {
   "cell_type": "code",
   "execution_count": 14,
   "metadata": {},
   "outputs": [],
   "source": [
    "def retrievePlayerURL(soup,linkList):\n",
    "    playerLinks = soup.find_all('a', {'class':'list-group-item list-group-item-action justify-content-between d-flex'})\n",
    "    for link in playerLinks:\n",
    "        linkList.append('https://www.mockdraftable.com' +link['href'])\n",
    "    return linkList"
   ]
  },
  {
   "cell_type": "code",
   "execution_count": 15,
   "metadata": {},
   "outputs": [],
   "source": [
    "def soupifyURL(url):\n",
    "    r = requests.get(url, headers=headers)\n",
    "    soup = BeautifulSoup(r.content,'lxml')\n",
    "    return soup"
   ]
  },
  {
   "cell_type": "code",
   "execution_count": 27,
   "metadata": {},
   "outputs": [
    {
     "ename": "WebDriverException",
     "evalue": "Message: Process unexpectedly closed with status 0\n",
     "output_type": "error",
     "traceback": [
      "\u001b[1;31m---------------------------------------------------------------------------\u001b[0m",
      "\u001b[1;31mWebDriverException\u001b[0m                        Traceback (most recent call last)",
      "\u001b[1;32m<ipython-input-27-e391551b4bab>\u001b[0m in \u001b[0;36m<module>\u001b[1;34m()\u001b[0m\n\u001b[0;32m     13\u001b[0m \u001b[1;31m#browser = webdriver.PhantomJS()\u001b[0m\u001b[1;33m\u001b[0m\u001b[1;33m\u001b[0m\u001b[0m\n\u001b[0;32m     14\u001b[0m \u001b[0mbinary\u001b[0m \u001b[1;33m=\u001b[0m \u001b[0mFirefoxBinary\u001b[0m\u001b[1;33m(\u001b[0m\u001b[1;34m'C:\\\\Program Files\\\\Mozilla Firefox\\\\firefox.exe'\u001b[0m\u001b[1;33m)\u001b[0m\u001b[1;33m\u001b[0m\u001b[0m\n\u001b[1;32m---> 15\u001b[1;33m \u001b[0mbrowser\u001b[0m \u001b[1;33m=\u001b[0m \u001b[0mwebdriver\u001b[0m\u001b[1;33m.\u001b[0m\u001b[0mFirefox\u001b[0m\u001b[1;33m(\u001b[0m\u001b[0mfirefox_binary\u001b[0m\u001b[1;33m=\u001b[0m\u001b[0mbinary\u001b[0m\u001b[1;33m,\u001b[0m \u001b[0mexecutable_path\u001b[0m\u001b[1;33m=\u001b[0m\u001b[1;34mr'E:\\\\Projects\\\\geckodriver.exe'\u001b[0m\u001b[1;33m)\u001b[0m\u001b[1;33m\u001b[0m\u001b[0m\n\u001b[0m\u001b[0;32m     16\u001b[0m \u001b[1;31m#browser = webdriver.Firefox()\u001b[0m\u001b[1;33m\u001b[0m\u001b[1;33m\u001b[0m\u001b[0m\n\u001b[0;32m     17\u001b[0m \u001b[0mbrowser\u001b[0m\u001b[1;33m.\u001b[0m\u001b[0mimplicitly_wait\u001b[0m\u001b[1;33m(\u001b[0m\u001b[1;36m100\u001b[0m\u001b[1;33m)\u001b[0m\u001b[1;33m\u001b[0m\u001b[0m\n",
      "\u001b[1;32mE:\\Anaconda3\\lib\\site-packages\\selenium\\webdriver\\firefox\\webdriver.py\u001b[0m in \u001b[0;36m__init__\u001b[1;34m(self, firefox_profile, firefox_binary, timeout, capabilities, proxy, executable_path, options, log_path, firefox_options, service_args)\u001b[0m\n\u001b[0;32m    160\u001b[0m                 \u001b[0mcommand_executor\u001b[0m\u001b[1;33m=\u001b[0m\u001b[0mexecutor\u001b[0m\u001b[1;33m,\u001b[0m\u001b[1;33m\u001b[0m\u001b[0m\n\u001b[0;32m    161\u001b[0m                 \u001b[0mdesired_capabilities\u001b[0m\u001b[1;33m=\u001b[0m\u001b[0mcapabilities\u001b[0m\u001b[1;33m,\u001b[0m\u001b[1;33m\u001b[0m\u001b[0m\n\u001b[1;32m--> 162\u001b[1;33m                 keep_alive=True)\n\u001b[0m\u001b[0;32m    163\u001b[0m \u001b[1;33m\u001b[0m\u001b[0m\n\u001b[0;32m    164\u001b[0m         \u001b[1;31m# Selenium remote\u001b[0m\u001b[1;33m\u001b[0m\u001b[1;33m\u001b[0m\u001b[0m\n",
      "\u001b[1;32mE:\\Anaconda3\\lib\\site-packages\\selenium\\webdriver\\remote\\webdriver.py\u001b[0m in \u001b[0;36m__init__\u001b[1;34m(self, command_executor, desired_capabilities, browser_profile, proxy, keep_alive, file_detector, options)\u001b[0m\n\u001b[0;32m    152\u001b[0m             warnings.warn(\"Please use FirefoxOptions to set browser profile\",\n\u001b[0;32m    153\u001b[0m                           DeprecationWarning)\n\u001b[1;32m--> 154\u001b[1;33m         \u001b[0mself\u001b[0m\u001b[1;33m.\u001b[0m\u001b[0mstart_session\u001b[0m\u001b[1;33m(\u001b[0m\u001b[0mdesired_capabilities\u001b[0m\u001b[1;33m,\u001b[0m \u001b[0mbrowser_profile\u001b[0m\u001b[1;33m)\u001b[0m\u001b[1;33m\u001b[0m\u001b[0m\n\u001b[0m\u001b[0;32m    155\u001b[0m         \u001b[0mself\u001b[0m\u001b[1;33m.\u001b[0m\u001b[0m_switch_to\u001b[0m \u001b[1;33m=\u001b[0m \u001b[0mSwitchTo\u001b[0m\u001b[1;33m(\u001b[0m\u001b[0mself\u001b[0m\u001b[1;33m)\u001b[0m\u001b[1;33m\u001b[0m\u001b[0m\n\u001b[0;32m    156\u001b[0m         \u001b[0mself\u001b[0m\u001b[1;33m.\u001b[0m\u001b[0m_mobile\u001b[0m \u001b[1;33m=\u001b[0m \u001b[0mMobile\u001b[0m\u001b[1;33m(\u001b[0m\u001b[0mself\u001b[0m\u001b[1;33m)\u001b[0m\u001b[1;33m\u001b[0m\u001b[0m\n",
      "\u001b[1;32mE:\\Anaconda3\\lib\\site-packages\\selenium\\webdriver\\remote\\webdriver.py\u001b[0m in \u001b[0;36mstart_session\u001b[1;34m(self, capabilities, browser_profile)\u001b[0m\n\u001b[0;32m    241\u001b[0m         parameters = {\"capabilities\": w3c_caps,\n\u001b[0;32m    242\u001b[0m                       \"desiredCapabilities\": capabilities}\n\u001b[1;32m--> 243\u001b[1;33m         \u001b[0mresponse\u001b[0m \u001b[1;33m=\u001b[0m \u001b[0mself\u001b[0m\u001b[1;33m.\u001b[0m\u001b[0mexecute\u001b[0m\u001b[1;33m(\u001b[0m\u001b[0mCommand\u001b[0m\u001b[1;33m.\u001b[0m\u001b[0mNEW_SESSION\u001b[0m\u001b[1;33m,\u001b[0m \u001b[0mparameters\u001b[0m\u001b[1;33m)\u001b[0m\u001b[1;33m\u001b[0m\u001b[0m\n\u001b[0m\u001b[0;32m    244\u001b[0m         \u001b[1;32mif\u001b[0m \u001b[1;34m'sessionId'\u001b[0m \u001b[1;32mnot\u001b[0m \u001b[1;32min\u001b[0m \u001b[0mresponse\u001b[0m\u001b[1;33m:\u001b[0m\u001b[1;33m\u001b[0m\u001b[0m\n\u001b[0;32m    245\u001b[0m             \u001b[0mresponse\u001b[0m \u001b[1;33m=\u001b[0m \u001b[0mresponse\u001b[0m\u001b[1;33m[\u001b[0m\u001b[1;34m'value'\u001b[0m\u001b[1;33m]\u001b[0m\u001b[1;33m\u001b[0m\u001b[0m\n",
      "\u001b[1;32mE:\\Anaconda3\\lib\\site-packages\\selenium\\webdriver\\remote\\webdriver.py\u001b[0m in \u001b[0;36mexecute\u001b[1;34m(self, driver_command, params)\u001b[0m\n\u001b[0;32m    310\u001b[0m         \u001b[0mresponse\u001b[0m \u001b[1;33m=\u001b[0m \u001b[0mself\u001b[0m\u001b[1;33m.\u001b[0m\u001b[0mcommand_executor\u001b[0m\u001b[1;33m.\u001b[0m\u001b[0mexecute\u001b[0m\u001b[1;33m(\u001b[0m\u001b[0mdriver_command\u001b[0m\u001b[1;33m,\u001b[0m \u001b[0mparams\u001b[0m\u001b[1;33m)\u001b[0m\u001b[1;33m\u001b[0m\u001b[0m\n\u001b[0;32m    311\u001b[0m         \u001b[1;32mif\u001b[0m \u001b[0mresponse\u001b[0m\u001b[1;33m:\u001b[0m\u001b[1;33m\u001b[0m\u001b[0m\n\u001b[1;32m--> 312\u001b[1;33m             \u001b[0mself\u001b[0m\u001b[1;33m.\u001b[0m\u001b[0merror_handler\u001b[0m\u001b[1;33m.\u001b[0m\u001b[0mcheck_response\u001b[0m\u001b[1;33m(\u001b[0m\u001b[0mresponse\u001b[0m\u001b[1;33m)\u001b[0m\u001b[1;33m\u001b[0m\u001b[0m\n\u001b[0m\u001b[0;32m    313\u001b[0m             response['value'] = self._unwrap_value(\n\u001b[0;32m    314\u001b[0m                 response.get('value', None))\n",
      "\u001b[1;32mE:\\Anaconda3\\lib\\site-packages\\selenium\\webdriver\\remote\\errorhandler.py\u001b[0m in \u001b[0;36mcheck_response\u001b[1;34m(self, response)\u001b[0m\n\u001b[0;32m    240\u001b[0m                 \u001b[0malert_text\u001b[0m \u001b[1;33m=\u001b[0m \u001b[0mvalue\u001b[0m\u001b[1;33m[\u001b[0m\u001b[1;34m'alert'\u001b[0m\u001b[1;33m]\u001b[0m\u001b[1;33m.\u001b[0m\u001b[0mget\u001b[0m\u001b[1;33m(\u001b[0m\u001b[1;34m'text'\u001b[0m\u001b[1;33m)\u001b[0m\u001b[1;33m\u001b[0m\u001b[0m\n\u001b[0;32m    241\u001b[0m             \u001b[1;32mraise\u001b[0m \u001b[0mexception_class\u001b[0m\u001b[1;33m(\u001b[0m\u001b[0mmessage\u001b[0m\u001b[1;33m,\u001b[0m \u001b[0mscreen\u001b[0m\u001b[1;33m,\u001b[0m \u001b[0mstacktrace\u001b[0m\u001b[1;33m,\u001b[0m \u001b[0malert_text\u001b[0m\u001b[1;33m)\u001b[0m\u001b[1;33m\u001b[0m\u001b[0m\n\u001b[1;32m--> 242\u001b[1;33m         \u001b[1;32mraise\u001b[0m \u001b[0mexception_class\u001b[0m\u001b[1;33m(\u001b[0m\u001b[0mmessage\u001b[0m\u001b[1;33m,\u001b[0m \u001b[0mscreen\u001b[0m\u001b[1;33m,\u001b[0m \u001b[0mstacktrace\u001b[0m\u001b[1;33m)\u001b[0m\u001b[1;33m\u001b[0m\u001b[0m\n\u001b[0m\u001b[0;32m    243\u001b[0m \u001b[1;33m\u001b[0m\u001b[0m\n\u001b[0;32m    244\u001b[0m     \u001b[1;32mdef\u001b[0m \u001b[0m_value_or_default\u001b[0m\u001b[1;33m(\u001b[0m\u001b[0mself\u001b[0m\u001b[1;33m,\u001b[0m \u001b[0mobj\u001b[0m\u001b[1;33m,\u001b[0m \u001b[0mkey\u001b[0m\u001b[1;33m,\u001b[0m \u001b[0mdefault\u001b[0m\u001b[1;33m)\u001b[0m\u001b[1;33m:\u001b[0m\u001b[1;33m\u001b[0m\u001b[0m\n",
      "\u001b[1;31mWebDriverException\u001b[0m: Message: Process unexpectedly closed with status 0\n"
     ]
    }
   ],
   "source": [
    "# establish default header information\n",
    "headers = {\"User-agent\":\n",
    "           \"Mozilla/5.0 (X11; Linux x86_64) AppleWebKit/537.36 (KHTML, like Gecko) Chrome/47.0.2526.80 Safari/537.36\"}\n",
    "\n",
    "# create a list of all the positions we'll be scraping\n",
    "positionList = ['QB','FB','HB','WR','TE','OT','OG','OC','ST','DT','DE','EDGE','ILB','OLB','SS','FS','CB']\n",
    "player_URL_List = []\n",
    "\n",
    "#  Use the instructions found here to install PhantomJS on Ubuntu:\n",
    "#       https://www.vultr.com/docs/how-to-install-phantomjs-on-ubuntu-16-04\n",
    "\n",
    "# Open a PhantomJS web browser and direct it to the DEA's dropbox search page\n",
    "#browser = webdriver.PhantomJS()\n",
    "binary = FirefoxBinary('C:\\\\Program Files\\\\Mozilla Firefox\\\\firefox.exe')\n",
    "browser = webdriver.Firefox(firefox_binary=binary, executable_path=r'E:\\\\Projects\\\\geckodriver.exe')\n",
    "#browser = webdriver.Firefox()\n",
    "browser.implicitly_wait(100)"
   ]
  },
  {
   "cell_type": "code",
   "execution_count": 28,
   "metadata": {},
   "outputs": [
    {
     "name": "stdout",
     "output_type": "stream",
     "text": [
      "QB\n"
     ]
    },
    {
     "ename": "KeyboardInterrupt",
     "evalue": "",
     "output_type": "error",
     "traceback": [
      "\u001b[1;31m---------------------------------------------------------------------------\u001b[0m",
      "\u001b[1;31mKeyboardInterrupt\u001b[0m                         Traceback (most recent call last)",
      "\u001b[1;32m<ipython-input-28-8ca3f900640c>\u001b[0m in \u001b[0;36m<module>\u001b[1;34m()\u001b[0m\n\u001b[0;32m     17\u001b[0m         \u001b[1;31m# advance the page\u001b[0m\u001b[1;33m\u001b[0m\u001b[1;33m\u001b[0m\u001b[0m\n\u001b[0;32m     18\u001b[0m         \u001b[0madvancePage\u001b[0m\u001b[1;33m(\u001b[0m\u001b[0mbrowser\u001b[0m\u001b[1;33m)\u001b[0m\u001b[1;33m\u001b[0m\u001b[0m\n\u001b[1;32m---> 19\u001b[1;33m         \u001b[0mtime\u001b[0m\u001b[1;33m.\u001b[0m\u001b[0msleep\u001b[0m\u001b[1;33m(\u001b[0m\u001b[1;36m3\u001b[0m\u001b[1;33m)\u001b[0m\u001b[1;33m\u001b[0m\u001b[0m\n\u001b[0m",
      "\u001b[1;31mKeyboardInterrupt\u001b[0m: "
     ]
    }
   ],
   "source": [
    "# Iterate through every position we want to scrape\n",
    "for position in positionList:\n",
    "    # make the first version of the URL\n",
    "    url = makeURL(position)\n",
    "    browser.get(url)\n",
    "    pageStatus = [0, 1]    \n",
    "    print(position)\n",
    "    \n",
    "    # Iterate through every subsequent page in the position group\n",
    "    while (pageStatus[0] < pageStatus[1]):\n",
    "        soup = soupifyURL(browser.current_url)\n",
    "        pageStatus = pageNumberStatus(soup)\n",
    "        #print('Current Page: ' + str(pageStatus[0]) + ', Next Page: ' + str(pageStatus[1]))\n",
    "        \n",
    "        player_URL_List = retrievePlayerURL(soup, player_URL_List)\n",
    "\n",
    "        # advance the page\n",
    "        advancePage(browser)\n",
    "        time.sleep(3)"
   ]
  },
  {
   "cell_type": "code",
   "execution_count": 182,
   "metadata": {},
   "outputs": [
    {
     "data": {
      "text/plain": [
       "6405"
      ]
     },
     "execution_count": 182,
     "metadata": {},
     "output_type": "execute_result"
    }
   ],
   "source": [
    "len(player_URL_List)"
   ]
  },
  {
   "cell_type": "code",
   "execution_count": 437,
   "metadata": {},
   "outputs": [
    {
     "name": "stdout",
     "output_type": "stream",
     "text": [
      "1999\n",
      "None\n"
     ]
    }
   ],
   "source": [
    "# NEED TO FIX THIS SECTION\n",
    "# RUNNING INTO AN ISSUE WITH INCORRECTLY SCRAPING:  DRAFT YEAR and SCHOOL\n",
    "\n",
    "# MAKE SURE TO ADD IN POSITION AND PLAYER LINK\n",
    "\n",
    "soup = soupifyURL('https://www.mockdraftable.com//player/aaron-brooks?position=QB')\n",
    "playerDict = createPlayerDict()\n",
    "dd = soup.find_all('dd')\n",
    "print(dd[0].text.split('\\n')[0])\n",
    "#layerDict['draftYear'] = dd[0].text.encode('ascii','ignore').strip()\n",
    "#layerDict['college'] = dd[2].text.encode('ascii','ignore').strip()\n",
    "#playerDict\n",
    "\n",
    "# Retrieve basic player information\n",
    "#playerName = soup.find('div',{'class':'mb-0 mt-1 h3 align-bottom playerbar-name'}).text.encode('ascii','ignore').strip()\n",
    "#playerDict['nameFirst'] = playerName.split(' ')[0]\n",
    "#playerDict['nameLast'] = playerName.split(' ')[1]\n",
    "print(soup.find('a',{'data-reactid':'162'}))\n",
    "#playerDict['draftYear'] = soup.find('a',{'data-reactid':'162'}).text.encode('ascii','ignore').strip()\n",
    "#playerDict['college'] = soup.find('dd',{'data-reactid':'170'}).text.encode('ascii','ignore').strip()"
   ]
  },
  {
   "cell_type": "code",
   "execution_count": 405,
   "metadata": {},
   "outputs": [
    {
     "name": "stdout",
     "output_type": "stream",
     "text": [
      "https://www.mockdraftable.com//player/aj-mccarron?position=QB\n",
      "0\n",
      "https://www.mockdraftable.com//player/aaron-brooks?position=QB\n"
     ]
    },
    {
     "ename": "AttributeError",
     "evalue": "'NoneType' object has no attribute 'text'",
     "output_type": "error",
     "traceback": [
      "\u001b[0;31m---------------------------------------------------------------------------\u001b[0m",
      "\u001b[0;31mAttributeError\u001b[0m                            Traceback (most recent call last)",
      "\u001b[0;32m<ipython-input-405-2889314a313b>\u001b[0m in \u001b[0;36m<module>\u001b[0;34m()\u001b[0m\n\u001b[1;32m      4\u001b[0m     \u001b[0msoup\u001b[0m \u001b[0;34m=\u001b[0m \u001b[0msoupifyURL\u001b[0m\u001b[0;34m(\u001b[0m\u001b[0murl\u001b[0m\u001b[0;34m)\u001b[0m\u001b[0;34m\u001b[0m\u001b[0m\n\u001b[1;32m      5\u001b[0m     \u001b[0;32mprint\u001b[0m\u001b[0;34m(\u001b[0m\u001b[0murl\u001b[0m\u001b[0;34m)\u001b[0m\u001b[0;34m\u001b[0m\u001b[0m\n\u001b[0;32m----> 6\u001b[0;31m     \u001b[0mplayerList\u001b[0m\u001b[0;34m.\u001b[0m\u001b[0mappend\u001b[0m\u001b[0;34m(\u001b[0m\u001b[0mretrievePlayerInfo\u001b[0m\u001b[0;34m(\u001b[0m\u001b[0msoup\u001b[0m\u001b[0;34m)\u001b[0m\u001b[0;34m)\u001b[0m\u001b[0;34m\u001b[0m\u001b[0m\n\u001b[0m\u001b[1;32m      7\u001b[0m     \u001b[0;32mif\u001b[0m \u001b[0;34m(\u001b[0m\u001b[0murlCount\u001b[0m\u001b[0;34m%\u001b[0m\u001b[0;36m100\u001b[0m\u001b[0;34m==\u001b[0m\u001b[0;36m0\u001b[0m\u001b[0;34m)\u001b[0m\u001b[0;34m:\u001b[0m \u001b[0;32mprint\u001b[0m\u001b[0;34m(\u001b[0m\u001b[0murlCount\u001b[0m\u001b[0;34m)\u001b[0m\u001b[0;34m\u001b[0m\u001b[0m\n\u001b[1;32m      8\u001b[0m     \u001b[0murlCount\u001b[0m\u001b[0;34m+=\u001b[0m\u001b[0;36m1\u001b[0m\u001b[0;34m\u001b[0m\u001b[0m\n",
      "\u001b[0;32m<ipython-input-404-427ceccac31a>\u001b[0m in \u001b[0;36mretrievePlayerInfo\u001b[0;34m(soup)\u001b[0m\n\u001b[1;32m      7\u001b[0m     \u001b[0mplayerDict\u001b[0m\u001b[0;34m[\u001b[0m\u001b[0;34m'nameFirst'\u001b[0m\u001b[0;34m]\u001b[0m \u001b[0;34m=\u001b[0m \u001b[0mplayerName\u001b[0m\u001b[0;34m.\u001b[0m\u001b[0msplit\u001b[0m\u001b[0;34m(\u001b[0m\u001b[0;34m' '\u001b[0m\u001b[0;34m)\u001b[0m\u001b[0;34m[\u001b[0m\u001b[0;36m0\u001b[0m\u001b[0;34m]\u001b[0m\u001b[0;34m\u001b[0m\u001b[0m\n\u001b[1;32m      8\u001b[0m     \u001b[0mplayerDict\u001b[0m\u001b[0;34m[\u001b[0m\u001b[0;34m'nameLast'\u001b[0m\u001b[0;34m]\u001b[0m \u001b[0;34m=\u001b[0m \u001b[0mplayerName\u001b[0m\u001b[0;34m.\u001b[0m\u001b[0msplit\u001b[0m\u001b[0;34m(\u001b[0m\u001b[0;34m' '\u001b[0m\u001b[0;34m)\u001b[0m\u001b[0;34m[\u001b[0m\u001b[0;36m1\u001b[0m\u001b[0;34m]\u001b[0m\u001b[0;34m\u001b[0m\u001b[0m\n\u001b[0;32m----> 9\u001b[0;31m     \u001b[0mplayerDict\u001b[0m\u001b[0;34m[\u001b[0m\u001b[0;34m'draftYear'\u001b[0m\u001b[0;34m]\u001b[0m \u001b[0;34m=\u001b[0m \u001b[0msoup\u001b[0m\u001b[0;34m.\u001b[0m\u001b[0mfind\u001b[0m\u001b[0;34m(\u001b[0m\u001b[0;34m'a'\u001b[0m\u001b[0;34m,\u001b[0m\u001b[0;34m{\u001b[0m\u001b[0;34m'data-reactid'\u001b[0m\u001b[0;34m:\u001b[0m\u001b[0;34m'162'\u001b[0m\u001b[0;34m}\u001b[0m\u001b[0;34m)\u001b[0m\u001b[0;34m.\u001b[0m\u001b[0mtext\u001b[0m\u001b[0;34m.\u001b[0m\u001b[0mencode\u001b[0m\u001b[0;34m(\u001b[0m\u001b[0;34m'ascii'\u001b[0m\u001b[0;34m,\u001b[0m\u001b[0;34m'ignore'\u001b[0m\u001b[0;34m)\u001b[0m\u001b[0;34m.\u001b[0m\u001b[0mstrip\u001b[0m\u001b[0;34m(\u001b[0m\u001b[0;34m)\u001b[0m\u001b[0;34m\u001b[0m\u001b[0m\n\u001b[0m\u001b[1;32m     10\u001b[0m     \u001b[0mplayerDict\u001b[0m\u001b[0;34m[\u001b[0m\u001b[0;34m'college'\u001b[0m\u001b[0;34m]\u001b[0m \u001b[0;34m=\u001b[0m \u001b[0msoup\u001b[0m\u001b[0;34m.\u001b[0m\u001b[0mfind\u001b[0m\u001b[0;34m(\u001b[0m\u001b[0;34m'dd'\u001b[0m\u001b[0;34m,\u001b[0m\u001b[0;34m{\u001b[0m\u001b[0;34m'data-reactid'\u001b[0m\u001b[0;34m:\u001b[0m\u001b[0;34m'170'\u001b[0m\u001b[0;34m}\u001b[0m\u001b[0;34m)\u001b[0m\u001b[0;34m.\u001b[0m\u001b[0mtext\u001b[0m\u001b[0;34m.\u001b[0m\u001b[0mencode\u001b[0m\u001b[0;34m(\u001b[0m\u001b[0;34m'ascii'\u001b[0m\u001b[0;34m,\u001b[0m\u001b[0;34m'ignore'\u001b[0m\u001b[0;34m)\u001b[0m\u001b[0;34m.\u001b[0m\u001b[0mstrip\u001b[0m\u001b[0;34m(\u001b[0m\u001b[0;34m)\u001b[0m\u001b[0;34m\u001b[0m\u001b[0m\n\u001b[1;32m     11\u001b[0m \u001b[0;34m\u001b[0m\u001b[0m\n",
      "\u001b[0;31mAttributeError\u001b[0m: 'NoneType' object has no attribute 'text'"
     ]
    }
   ],
   "source": [
    "playerList = []\n",
    "urlCount = 0\n",
    "for url in player_URL_List:\n",
    "    soup = soupifyURL(url)\n",
    "    print(url)\n",
    "    playerList.append(retrievePlayerInfo(soup))\n",
    "    if (urlCount%100==0): print(urlCount)\n",
    "    urlCount+=1"
   ]
  }
 ],
 "metadata": {
  "kernelspec": {
   "display_name": "Python 3",
   "language": "python",
   "name": "python3"
  },
  "language_info": {
   "codemirror_mode": {
    "name": "ipython",
    "version": 3
   },
   "file_extension": ".py",
   "mimetype": "text/x-python",
   "name": "python",
   "nbconvert_exporter": "python",
   "pygments_lexer": "ipython3",
   "version": "3.6.4"
  }
 },
 "nbformat": 4,
 "nbformat_minor": 2
}
